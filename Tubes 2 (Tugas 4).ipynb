{
 "cells": [
  {
   "cell_type": "code",
   "execution_count": 51,
   "id": "e1675a0a",
   "metadata": {},
   "outputs": [
    {
     "name": "stdout",
     "output_type": "stream",
     "text": [
      "      Invoice ID Branch       City Customer type  Gender  \\\n",
      "0    750-67-8428      A     Yangon        Member  Female   \n",
      "1    226-31-3081      C  Naypyitaw        Normal  Female   \n",
      "2    631-41-3108      A     Yangon        Normal    Male   \n",
      "3    123-19-1176      A     Yangon        Member    Male   \n",
      "4    373-73-7910      A     Yangon        Normal    Male   \n",
      "..           ...    ...        ...           ...     ...   \n",
      "995  233-67-5758      C  Naypyitaw        Normal    Male   \n",
      "996  303-96-2227      B   Mandalay        Normal  Female   \n",
      "997  727-02-1313      A     Yangon        Member    Male   \n",
      "998  347-56-2442      A     Yangon        Normal    Male   \n",
      "999  849-09-3807      A     Yangon        Member  Female   \n",
      "\n",
      "               Product line  Unit price  Quantity   Tax 5%      Total  \\\n",
      "0         Health and beauty       74.69         7  26.1415   548.9715   \n",
      "1    Electronic accessories       15.28         5   3.8200    80.2200   \n",
      "2        Home and lifestyle       46.33         7  16.2155   340.5255   \n",
      "3         Health and beauty       58.22         8  23.2880   489.0480   \n",
      "4         Sports and travel       86.31         7  30.2085   634.3785   \n",
      "..                      ...         ...       ...      ...        ...   \n",
      "995       Health and beauty       40.35         1   2.0175    42.3675   \n",
      "996      Home and lifestyle       97.38        10  48.6900  1022.4900   \n",
      "997      Food and beverages       31.84         1   1.5920    33.4320   \n",
      "998      Home and lifestyle       65.82         1   3.2910    69.1110   \n",
      "999     Fashion accessories       88.34         7  30.9190   649.2990   \n",
      "\n",
      "          Date   Time      Payment    cogs  gross margin percentage  \\\n",
      "0     1/5/2019  13:08      Ewallet  522.83                 4.761905   \n",
      "1     3/8/2019  10:29         Cash   76.40                 4.761905   \n",
      "2     3/3/2019  13:23  Credit card  324.31                 4.761905   \n",
      "3    1/27/2019  20:33      Ewallet  465.76                 4.761905   \n",
      "4     2/8/2019  10:37      Ewallet  604.17                 4.761905   \n",
      "..         ...    ...          ...     ...                      ...   \n",
      "995  1/29/2019  13:46      Ewallet   40.35                 4.761905   \n",
      "996   3/2/2019  17:16      Ewallet  973.80                 4.761905   \n",
      "997   2/9/2019  13:22         Cash   31.84                 4.761905   \n",
      "998  2/22/2019  15:33         Cash   65.82                 4.761905   \n",
      "999  2/18/2019  13:28         Cash  618.38                 4.761905   \n",
      "\n",
      "     gross income  Rating  \n",
      "0         26.1415     9.1  \n",
      "1          3.8200     9.6  \n",
      "2         16.2155     7.4  \n",
      "3         23.2880     8.4  \n",
      "4         30.2085     5.3  \n",
      "..            ...     ...  \n",
      "995        2.0175     6.2  \n",
      "996       48.6900     4.4  \n",
      "997        1.5920     7.7  \n",
      "998        3.2910     4.1  \n",
      "999       30.9190     6.6  \n",
      "\n",
      "[1000 rows x 17 columns]\n"
     ]
    }
   ],
   "source": [
    "# Tugas 4\n",
    "\n",
    "# Penjelasan atribut tiap kolom\n",
    "\n",
    "# Invoice id :  Nomor identifikasi invoice penjualan yang dihasilkan komputer (Kategorikal = nominal (nomor seri berbeda - beda))\n",
    "# Branch : Cabang dari toko (Kategorikal = nominal)\n",
    "# City : Lokasi toko (Kategorikal = nominal)\n",
    "# Customer type : Tipe Pelanggan (Kategorikal = nominal) \n",
    "# Gender : Jenis kelamin pelanggan (Kategorikal = nominal)\n",
    "# Product line : Kategori barang yang dijual (Kategorikal = nominal)\n",
    "# Unit price : Harga setiap produk/barang dalam dollar (Kuantitatif)\n",
    "# Quantity : jumlah produk/barang yang dibeli oleh pelanggan (Kuantitatif)\n",
    "# Tax : Pajak 5% dari pembelian pelanggan (Kuantitatif)\n",
    "# Total : Harga total (termasuk pajak) (Kuantitatif)\n",
    "# Date : Tanggal pembelian barang (Kuantitatif)\n",
    "# Time : Waktu pembelian barang (Kuantitatif)\n",
    "# Payment : Metode pembayaran yang digunakan oleh pelanggan (Kategorikal = nominal)\n",
    "# COGS : Harga pokok penjualan (Kuantitatif)\n",
    "# Gross margin percentage : persentase margin kotor (Kuantitatif)\n",
    "# Gross income : pendapatan kotor (Kuantitatif)\n",
    "# Rating : Penilaian terhadap keseluruhan pengalaman berbelanja oleh pelanggan  (Kuantitatif)\n",
    "\n",
    "\n",
    "import pandas as pd\n",
    "\n",
    "df = pd.read_csv(\"supermarket_sales - Sheet1.csv\")\n",
    "\n",
    "# Menampilkan dataframe dan penjelasan karakteristik data untuk tiap atribut\n",
    "print (df)"
   ]
  },
  {
   "cell_type": "code",
   "execution_count": 30,
   "id": "d41a8e46",
   "metadata": {},
   "outputs": [
    {
     "name": "stdout",
     "output_type": "stream",
     "text": [
      "A    340\n",
      "B    332\n",
      "C    328\n",
      "Name: Branch, dtype: int64\n"
     ]
    }
   ],
   "source": [
    "print(df['Branch'].value_counts())\n",
    "# Pada kolom branch (Kategorikal) terdapat kategori A, B, dan C"
   ]
  },
  {
   "cell_type": "code",
   "execution_count": 31,
   "id": "f2985849",
   "metadata": {},
   "outputs": [
    {
     "name": "stdout",
     "output_type": "stream",
     "text": [
      "Yangon       340\n",
      "Mandalay     332\n",
      "Naypyitaw    328\n",
      "Name: City, dtype: int64\n"
     ]
    }
   ],
   "source": [
    "print(df[\"City\"].value_counts())\n",
    "# Pada kolom city (Kategorikal) terdapat kategori Yangon, Mandalay, Naypyitaw "
   ]
  },
  {
   "cell_type": "code",
   "execution_count": 34,
   "id": "69b76e39",
   "metadata": {},
   "outputs": [
    {
     "name": "stdout",
     "output_type": "stream",
     "text": [
      "Member    501\n",
      "Normal    499\n",
      "Name: Customer type, dtype: int64\n"
     ]
    }
   ],
   "source": [
    "print(df[\"Customer type\"].value_counts())\n",
    "# Pada kolom customer type (Kategorikal) terdapat kategori Member dan Normal "
   ]
  },
  {
   "cell_type": "code",
   "execution_count": 35,
   "id": "4c89593f",
   "metadata": {},
   "outputs": [
    {
     "name": "stdout",
     "output_type": "stream",
     "text": [
      "Female    501\n",
      "Male      499\n",
      "Name: Gender, dtype: int64\n"
     ]
    }
   ],
   "source": [
    "print(df[\"Gender\"].value_counts())\n",
    "# Pada kolom gender (Kategorikal) terdapat kategori Female dan Male"
   ]
  },
  {
   "cell_type": "code",
   "execution_count": 36,
   "id": "c2e9e570",
   "metadata": {},
   "outputs": [
    {
     "name": "stdout",
     "output_type": "stream",
     "text": [
      "Fashion accessories       178\n",
      "Food and beverages        174\n",
      "Electronic accessories    170\n",
      "Sports and travel         166\n",
      "Home and lifestyle        160\n",
      "Health and beauty         152\n",
      "Name: Product line, dtype: int64\n"
     ]
    }
   ],
   "source": [
    "print(df[\"Product line\"].value_counts())\n",
    "# Pada kolom product line (katerorikal) terdapat kategori :\n",
    "# Fashion accessories       \n",
    "# Food and beverages        \n",
    "# Electronic accessories    \n",
    "# Sports and travel         \n",
    "# Home and lifestyle        \n",
    "# Health and beauty         "
   ]
  },
  {
   "cell_type": "code",
   "execution_count": 52,
   "id": "cbb0b0cb",
   "metadata": {},
   "outputs": [
    {
     "name": "stdout",
     "output_type": "stream",
     "text": [
      "10.08\n",
      "99.96\n"
     ]
    }
   ],
   "source": [
    "minimum = df.min()\n",
    "maximum = df.max()\n",
    "\n",
    "print (minimum[\"Unit price\"])\n",
    "print (maximum[\"Unit price\"])\n",
    "# Pada kolom unit price (kuantitatif) rangenya adalah dari 10.08 - 99.96"
   ]
  },
  {
   "cell_type": "code",
   "execution_count": 54,
   "id": "9812ce24",
   "metadata": {},
   "outputs": [
    {
     "name": "stdout",
     "output_type": "stream",
     "text": [
      "1\n",
      "10\n"
     ]
    }
   ],
   "source": [
    "print (minimum[\"Quantity\"])\n",
    "print (maximum[\"Quantity\"])\n",
    "# Pada kolom quantity (kuantitatif) rangenya adalah dari 1 - 10"
   ]
  },
  {
   "cell_type": "code",
   "execution_count": 56,
   "id": "f38baaf0",
   "metadata": {},
   "outputs": [
    {
     "name": "stdout",
     "output_type": "stream",
     "text": [
      "0.5085\n",
      "49.65\n"
     ]
    }
   ],
   "source": [
    "print (minimum[\"Tax 5%\"])\n",
    "print (maximum[\"Tax 5%\"])\n",
    "# Pada kolom tax (kuantitatif) rangenya adalah dari 0.5085 - 49.65"
   ]
  },
  {
   "cell_type": "code",
   "execution_count": 57,
   "id": "be7d89c2",
   "metadata": {},
   "outputs": [
    {
     "name": "stdout",
     "output_type": "stream",
     "text": [
      "10.6785\n",
      "1042.65\n"
     ]
    }
   ],
   "source": [
    "print (minimum[\"Total\"])\n",
    "print (maximum[\"Total\"])\n",
    "# Pada kolom total (kuantitatif) rangenya adalah dari 10.6785 - 1042.65"
   ]
  },
  {
   "cell_type": "code",
   "execution_count": 59,
   "id": "7a43a24c",
   "metadata": {},
   "outputs": [
    {
     "name": "stdout",
     "output_type": "stream",
     "text": [
      "1/1/2019\n",
      "3/9/2019\n"
     ]
    }
   ],
   "source": [
    "print (minimum[\"Date\"])\n",
    "print (maximum[\"Date\"])\n",
    "# # Pada kolom date (kuantitatif) rangenya adalah dari 1/1/2019 - 3/9/2019"
   ]
  },
  {
   "cell_type": "code",
   "execution_count": 60,
   "id": "78ec5a0d",
   "metadata": {},
   "outputs": [
    {
     "name": "stdout",
     "output_type": "stream",
     "text": [
      "10:00\n",
      "20:59\n"
     ]
    }
   ],
   "source": [
    "print (minimum[\"Time\"])\n",
    "print (maximum[\"Time\"])\n",
    "# Pada kolom time (kuantitatif) rangenya adalah dari 10:00 - 20:59"
   ]
  },
  {
   "cell_type": "code",
   "execution_count": 42,
   "id": "749ccfbd",
   "metadata": {},
   "outputs": [
    {
     "name": "stdout",
     "output_type": "stream",
     "text": [
      "Ewallet        345\n",
      "Cash           344\n",
      "Credit card    311\n",
      "Name: Payment, dtype: int64\n"
     ]
    }
   ],
   "source": [
    "print(df[\"Payment\"].value_counts())\n",
    "# Pada kolom payment (Kategorikal) terdapat kategori Ewallet, Cash, dan Credit card"
   ]
  },
  {
   "cell_type": "code",
   "execution_count": 61,
   "id": "04bfe6a8",
   "metadata": {},
   "outputs": [
    {
     "name": "stdout",
     "output_type": "stream",
     "text": [
      "10.17\n",
      "993.0\n"
     ]
    }
   ],
   "source": [
    "print (minimum[\"cogs\"])\n",
    "print (maximum[\"cogs\"])\n",
    "# Pada kolom cogs (kuantitatif) rangenya adalah dari 10.17 - 993.0"
   ]
  },
  {
   "cell_type": "code",
   "execution_count": 46,
   "id": "6bef228f",
   "metadata": {},
   "outputs": [
    {
     "name": "stdout",
     "output_type": "stream",
     "text": [
      "4.761904762\n",
      "4.761904762\n"
     ]
    }
   ],
   "source": [
    "print (maximum[\"gross margin percentage\"])\n",
    "print (minimum[\"gross margin percentage\"])\n",
    "# Pada kolom gross margin percentage (kuantitatif) rangenya adalah 4.761904762"
   ]
  },
  {
   "cell_type": "code",
   "execution_count": 62,
   "id": "44a2fe17",
   "metadata": {},
   "outputs": [
    {
     "name": "stdout",
     "output_type": "stream",
     "text": [
      "0.5085\n",
      "49.65\n"
     ]
    }
   ],
   "source": [
    "print (minimum[\"gross income\"])\n",
    "print (maximum[\"gross income\"])\n",
    "# Pada kolom gross income (kuantitatif) rangenya adalah dari 0.5085 - 49.65"
   ]
  },
  {
   "cell_type": "code",
   "execution_count": 63,
   "id": "501ed4a2",
   "metadata": {},
   "outputs": [
    {
     "name": "stdout",
     "output_type": "stream",
     "text": [
      "4.0\n",
      "10.0\n"
     ]
    }
   ],
   "source": [
    "print (minimum[\"Rating\"])\n",
    "print (maximum[\"Rating\"])\n",
    "# Pada kolom rating (kuantitatif) rangenya adalah dari 4.0 - 10.0"
   ]
  },
  {
   "cell_type": "code",
   "execution_count": null,
   "id": "e9943899",
   "metadata": {},
   "outputs": [],
   "source": []
  }
 ],
 "metadata": {
  "kernelspec": {
   "display_name": "Python 3 (ipykernel)",
   "language": "python",
   "name": "python3"
  },
  "language_info": {
   "codemirror_mode": {
    "name": "ipython",
    "version": 3
   },
   "file_extension": ".py",
   "mimetype": "text/x-python",
   "name": "python",
   "nbconvert_exporter": "python",
   "pygments_lexer": "ipython3",
   "version": "3.10.5"
  }
 },
 "nbformat": 4,
 "nbformat_minor": 5
}
